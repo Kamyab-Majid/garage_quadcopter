{
 "cells": [
  {
   "cell_type": "code",
   "execution_count": 22,
   "source": [
    "import numpy as np\n",
    "import matplotlib.pyplot as plt\n",
    "x= 1\n",
    "si = -np.pi\n",
    "psi_range = (-2 * np.pi, 2 * np.pi)\n",
    "i = 0\n",
    "yy = np.linspace(100,-100,1000)\n",
    "si_all = np.zeros(len(yy))\n",
    "\n",
    "for y in yy:\n",
    "    if x >= 0:\n",
    "        if y > 0:\n",
    "            si_d_angle = np.arcsin(-x / np.sqrt(x ** 2 + y ** 2)) -np.pi/2\n",
    "\n",
    "        else:\n",
    "            si_d_angle = np.arcsin(x / np.sqrt(x ** 2 + y ** 2)) + np.pi/2\n",
    "    else:\n",
    "        if y >= 0:\n",
    "            si_d_angle = -np.arcsin(x / np.sqrt(x ** 2 + y ** 2)) - np.pi/2\n",
    "        else:\n",
    "            si_d_angle = np.arcsin(x / np.sqrt(x ** 2 + y ** 2)) + np.pi / 2\n",
    "    if si_d_angle > np.pi:\n",
    "        si_d_angle -= 2 * np.pi\n",
    "    if si_d_angle <= -np.pi:\n",
    "        si_d_angle += 2 * np.pi\n",
    "    if -np.pi <= si <= np.pi:\n",
    "        si_ini_er = si - si_d_angle\n",
    "        si_error = min(abs(si_ini_er), abs(si_ini_er + 2 * np.pi), abs(si_ini_er - 2 * np.pi)) \n",
    "    elif si > np.pi:\n",
    "        si_ini_er = si - si_d_angle - 2 * np.pi\n",
    "        si_error = min(abs(si_ini_er), abs(si_ini_er + 2 * np.pi), abs(si_ini_er - 2 * np.pi))\n",
    "    else:\n",
    "        si_ini_er = si - si_d_angle + 2 * np.pi\n",
    "        si_error = min(abs(si_ini_er), abs(si_ini_er + 2 * np.pi), abs(si_ini_er - 2 * np.pi))\n",
    "    si_all[i] = si_error/np.pi\n",
    "    i=i+1\n",
    "fig, ax = plt.subplots(figsize=(10, 5))\n",
    "line1, =ax.plot(yy, si_all,label=r\"$si$\",linewidth=5.0)\n",
    "ax.legend(loc=\"upper right\",prop={'size': 10},borderpad=2)\n",
    "plt.xlabel(r\"$y$\",fontsize=10)\n",
    "plt.xticks(fontsize=15)\n",
    "plt.yticks(fontsize=15)\n",
    "plt.grid()"
   ],
   "outputs": [
    {
     "output_type": "display_data",
     "data": {
      "text/plain": [
       "<Figure size 720x360 with 1 Axes>"
      ],
      "image/png": "[encoded data removed]"
     },
     "metadata": {
      "needs_background": "light"
     }
    }
   ],
   "metadata": {}
  },
  {
   "cell_type": "code",
   "execution_count": 16,
   "source": [
    "np.zeros(10)\n"
   ],
   "outputs": [
    {
     "output_type": "execute_result",
     "data": {
      "text/plain": [
       "array([0., 0., 0., 0., 0., 0., 0., 0., 0., 0.])"
      ]
     },
     "metadata": {},
     "execution_count": 16
    }
   ],
   "metadata": {}
  },
  {
   "cell_type": "code",
   "execution_count": 4,
   "source": [
    "import numpy as np\n",
    "x=-1\n",
    "y=0\n",
    "\n",
    "si = 0\n",
    "psi_range = (-2 * np.pi, 2 * np.pi)\n",
    "si_all = np.zeros(100)\n",
    "i = 0\n",
    "if x >= 0:\n",
    "    if y > 0:\n",
    "        si_d_angle = si_d_angle = np.arcsin(-x / np.sqrt(x ** 2 + y ** 2)) -np.pi/2\n",
    "        print('11')\n",
    "\n",
    "    else:\n",
    "        si_d_angle = np.arcsin(x / np.sqrt(x ** 2 + y ** 2)) + np.pi/2\n",
    "        print('-11')\n",
    "else:\n",
    "    if y >= 0:\n",
    "        si_d_angle = -np.arcsin(x / np.sqrt(x ** 2 + y ** 2)) - np.pi/2\n",
    "        print('1-1')\n",
    "    else:\n",
    "        si_d_angle = np.arcsin(x / np.sqrt(x ** 2 + y ** 2)) + np.pi / 2\n",
    "        print('-1-1')\n",
    "\n",
    "if si_d_angle > np.pi:\n",
    "    si_d_angle -= 2 * np.pi\n",
    "if si_d_angle <= -np.pi:\n",
    "    si_d_angle += 2 * np.pi\n",
    "if -np.pi <= si <= np.pi:\n",
    "    si_ini_er = si - si_d_angle\n",
    "    si_error = min(abs(si_ini_er), abs(si_ini_er + 2 * np.pi), abs(si_ini_er - 2 * np.pi)) \n",
    "elif si > np.pi:\n",
    "    si_ini_er = si - si_d_angle - 2 * np.pi\n",
    "    si_error = min(abs(si_ini_er), abs(si_ini_er + 2 * np.pi), abs(si_ini_er - 2 * np.pi))\n",
    "else:\n",
    "    si_ini_er = si - si_d_angle + 2 * np.pi\n",
    "    si_error = min(abs(si_ini_er), abs(si_ini_er + 2 * np.pi), abs(si_ini_er - 2 * np.pi))\n",
    "si_all[i] = si_error\n",
    "i=i+1\n",
    "print(si_d_angle/np.pi)"
   ],
   "outputs": [
    {
     "output_type": "stream",
     "name": "stdout",
     "text": [
      "1-1\n",
      "0.0\n"
     ]
    }
   ],
   "metadata": {}
  },
  {
   "cell_type": "code",
   "execution_count": 71,
   "source": [
    "print(np.arcsin(x / np.sqrt(x ** 2 + y ** 2)) + np.pi)\n",
    "print(np.arcsin(x / np.sqrt(x ** 2 + y ** 2)) + np.pi/2)\n",
    "print(np.arcsin(x / np.sqrt(x ** 2 + y ** 2)) )\n",
    "print(np.arcsin(x / np.sqrt(x ** 2 + y ** 2)) + np.pi / 2)"
   ],
   "outputs": [
    {
     "output_type": "stream",
     "name": "stdout",
     "text": [
      "3.141592653589793\n",
      "1.5707963267948966\n",
      "0.0\n",
      "1.5707963267948966\n"
     ]
    }
   ],
   "metadata": {}
  },
  {
   "cell_type": "code",
   "execution_count": null,
   "source": [],
   "outputs": [],
   "metadata": {}
  }
 ],
 "metadata": {
  "interpreter": {
   "hash": "5c26abdd6059117efed69c1aca26834a96306e41a3fe67c7c9b778749bba31ea"
  },
  "kernelspec": {
   "display_name": "Python 3.8.0 64-bit ('garage_env': conda)",
   "name": "python3"
  },
  "language_info": {
   "name": "python",
   "version": ""
  }
 },
 "nbformat": 4,
 "nbformat_minor": 5
}