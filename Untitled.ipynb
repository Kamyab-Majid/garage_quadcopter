{
 "cells": [
  {
   "cell_type": "code",
   "execution_count": null,
   "metadata": {},
   "outputs": [],
   "source": []
  }
 ],
 "metadata": {
  "interpreter": {
   "hash": "5c26abdd6059117efed69c1aca26834a96306e41a3fe67c7c9b778749bba31ea"
  },
  "kernelspec": {
   "display_name": "Python 3.8.0 64-bit ('garage_env': conda)",
   "name": "python3"
  },
  "language_info": {
   "name": "python",
   "version": ""
  }
 },
 "nbformat": 4,
 "nbformat_minor": 5
}